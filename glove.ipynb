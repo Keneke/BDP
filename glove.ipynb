{
 "cells": [
  {
   "cell_type": "code",
   "execution_count": 45,
   "metadata": {},
   "outputs": [],
   "source": [
    "import numpy as np\n",
    "import matplotlib.pyplot as plt\n",
    "from sklearn.decomposition import PCA\n",
    "from sklearn.manifold import TSNE"
   ]
  },
  {
   "cell_type": "code",
   "execution_count": 46,
   "metadata": {},
   "outputs": [],
   "source": [
    "corpus = ['GloVe, coined from Global Vectors, is a model for distributed word representation. The model is an unsupervised learning algorithm for obtaining vector representations for words. This is achieved by mapping words into a meaningful space where the distance between words is related to semantic similarity.[1] Training is performed on aggregated global word-word co-occurrence statistics from a corpus, and the resulting representations showcase interesting linear substructures of the word vector space. It is developed as an open-source project at Stanford.[2] As log-bilinear regression model for unsupervised learning of word representations, it combines the features of two model families, namely the global matrix factorization and local context window methods.']"
   ]
  },
  {
   "cell_type": "code",
   "execution_count": 47,
   "metadata": {},
   "outputs": [],
   "source": [
    "tokens = []\n",
    "for i in range (len(corpus)):\n",
    "    sents = corpus[i].split(\".\")\n",
    "    for j in range(len(sents)):\n",
    "        tokens = tokens + sents[j].lower().split(\" \")"
   ]
  },
  {
   "cell_type": "code",
   "execution_count": 48,
   "metadata": {},
   "outputs": [],
   "source": [
    "my_dict = list(set(tokens))"
   ]
  },
  {
   "cell_type": "code",
   "execution_count": 60,
   "metadata": {},
   "outputs": [],
   "source": [
    "def word2idx(token):\n",
    "    index = my_dict.index(token)\n",
    "    return index\n",
    "def idx2word(index):\n",
    "    word = my_dict[index]\n",
    "    return word"
   ]
  },
  {
   "cell_type": "code",
   "execution_count": 61,
   "metadata": {},
   "outputs": [
    {
     "data": {
      "text/plain": [
       "4"
      ]
     },
     "execution_count": 61,
     "metadata": {},
     "output_type": "execute_result"
    }
   ],
   "source": [
    "word2idx('word')"
   ]
  },
  {
   "cell_type": "code",
   "execution_count": 62,
   "metadata": {},
   "outputs": [],
   "source": [
    "ss=len(my_dict)"
   ]
  },
  {
   "cell_type": "code",
   "execution_count": 63,
   "metadata": {},
   "outputs": [],
   "source": [
    "zero_matrix=np.zeros((ss,ss))"
   ]
  },
  {
   "cell_type": "code",
   "execution_count": null,
   "metadata": {},
   "outputs": [],
   "source": [
    "for token in tokens:\n",
    "    print(token,word2idx[token])"
   ]
  },
  {
   "cell_type": "code",
   "execution_count": 71,
   "metadata": {},
   "outputs": [
    {
     "name": "stdout",
     "output_type": "stream",
     "text": [
      "glove, coined\n",
      "coined from\n",
      "from global\n",
      "global vectors,\n",
      "vectors, is\n",
      "is a\n",
      "a model\n",
      "model for\n",
      "for distributed\n",
      "distributed word\n",
      "word representation\n",
      "representation \n",
      " the\n",
      "the model\n",
      "model is\n",
      "is an\n",
      "an unsupervised\n",
      "unsupervised learning\n",
      "learning algorithm\n",
      "algorithm for\n",
      "for obtaining\n",
      "obtaining vector\n",
      "vector representations\n",
      "representations for\n",
      "for words\n",
      "words \n",
      " this\n",
      "this is\n",
      "is achieved\n",
      "achieved by\n",
      "by mapping\n",
      "mapping words\n",
      "words into\n",
      "into a\n",
      "a meaningful\n",
      "meaningful space\n",
      "space where\n",
      "where the\n",
      "the distance\n",
      "distance between\n",
      "between words\n",
      "words is\n",
      "is related\n",
      "related to\n",
      "to semantic\n",
      "semantic similarity\n",
      "similarity [1]\n",
      "[1] training\n",
      "training is\n",
      "is performed\n",
      "performed on\n",
      "on aggregated\n",
      "aggregated global\n",
      "global word-word\n",
      "word-word co-occurrence\n",
      "co-occurrence statistics\n",
      "statistics from\n",
      "from a\n",
      "a corpus,\n",
      "corpus, and\n",
      "and the\n",
      "the resulting\n",
      "resulting representations\n",
      "representations showcase\n",
      "showcase interesting\n",
      "interesting linear\n",
      "linear substructures\n",
      "substructures of\n",
      "of the\n",
      "the word\n",
      "word vector\n",
      "vector space\n",
      "space \n",
      " it\n",
      "it is\n",
      "is developed\n",
      "developed as\n",
      "as an\n",
      "an open-source\n",
      "open-source project\n",
      "project at\n",
      "at stanford\n",
      "stanford [2]\n",
      "[2] as\n",
      "as log-bilinear\n",
      "log-bilinear regression\n",
      "regression model\n",
      "model for\n",
      "for unsupervised\n",
      "unsupervised learning\n",
      "learning of\n",
      "of word\n",
      "word representations,\n",
      "representations, it\n",
      "it combines\n",
      "combines the\n",
      "the features\n",
      "features of\n",
      "of two\n",
      "two model\n",
      "model families,\n",
      "families, namely\n",
      "namely the\n",
      "the global\n",
      "global matrix\n",
      "matrix factorization\n",
      "factorization and\n",
      "and local\n",
      "local context\n",
      "context window\n",
      "window methods\n",
      "methods \n",
      "Shape of Co-occurance Matrix  (74, 74)\n"
     ]
    }
   ],
   "source": [
    "CoM=np.zeros((len(my_dict),len(my_dict)))\n",
    "s = len(tokens)-1\n",
    "for idx in range(s):\n",
    "  index2=word2idx(tokens[idx+1])\n",
    "  index1 = word2idx(tokens[idx])\n",
    "  print(tokens[idx],tokens[idx+1])\n",
    "  CoM[index1,index2] +=1\n",
    "print ('Shape of Co-occurance Matrix ', CoM.shape)"
   ]
  },
  {
   "cell_type": "code",
   "execution_count": 72,
   "metadata": {},
   "outputs": [],
   "source": [
    "def return_matrix(random_words,dim =15):\n",
    "    word_matrix = np.random.randn(len(random_words),dim)\n",
    "    i = 0\n",
    "    for word in random_words:\n",
    "        word_matrix[i] = word2idx(word)\n",
    "        i +=1\n",
    "    return word_matrix"
   ]
  },
  {
   "cell_type": "code",
   "execution_count": 77,
   "metadata": {},
   "outputs": [
    {
     "data": {
      "text/plain": [
       "array([[17., 17., 17., 17., 17., 17., 17., 17., 17., 17.],\n",
       "       [12., 12., 12., 12., 12., 12., 12., 12., 12., 12.],\n",
       "       [43., 43., 43., 43., 43., 43., 43., 43., 43., 43.],\n",
       "       [36., 36., 36., 36., 36., 36., 36., 36., 36., 36.],\n",
       "       [28., 28., 28., 28., 28., 28., 28., 28., 28., 28.],\n",
       "       [23., 23., 23., 23., 23., 23., 23., 23., 23., 23.],\n",
       "       [41., 41., 41., 41., 41., 41., 41., 41., 41., 41.],\n",
       "       [ 4.,  4.,  4.,  4.,  4.,  4.,  4.,  4.,  4.,  4.],\n",
       "       [53., 53., 53., 53., 53., 53., 53., 53., 53., 53.],\n",
       "       [11., 11., 11., 11., 11., 11., 11., 11., 11., 11.]])"
      ]
     },
     "execution_count": 77,
     "metadata": {},
     "output_type": "execute_result"
    }
   ],
   "source": [
    "random_words =[  'matrix', 'the', 'local', 'distance','of', 'context', 'two', 'word', 'as', 'it']\n",
    "matrix_return = return_matrix(random_words, 10)\n",
    "matrix_return[:10,:10]"
   ]
  },
  {
   "cell_type": "code",
   "execution_count": 78,
   "metadata": {},
   "outputs": [],
   "source": [
    "pca_ = PCA(n_components = 2)  \n",
    "data = pca_.fit_transform(matrix_return)"
   ]
  },
  {
   "cell_type": "code",
   "execution_count": 80,
   "metadata": {},
   "outputs": [
    {
     "data": {
      "text/plain": [
       "Text(0, 0.5, 'PCA2')"
      ]
     },
     "execution_count": 80,
     "metadata": {},
     "output_type": "execute_result"
    },
    {
     "data": {
      "image/png": "[encoded data removed]",
      "text/plain": [
       "<Figure size 432x288 with 1 Axes>"
      ]
     },
     "metadata": {
      "needs_background": "light"
     },
     "output_type": "display_data"
    }
   ],
   "source": [
    "plt.scatter(data[:,0],data[:,1],cmap=plt.get_cmap('Spectral'))\n",
    "for label,x,y in zip(random_words,data[:,0],data[:,1]):\n",
    "    plt.annotate(\n",
    "        label,\n",
    "        xy=(x,y),\n",
    "        xytext=(-20, 20),\n",
    "        textcoords='offset points',\n",
    "        bbox=dict(boxstyle='round,pad=1', fc='pink', alpha=1),\n",
    "        arrowprops=dict(arrowstyle = 'simple', connectionstyle='arc3,rad=0')\n",
    "    )\n",
    "plt.xlabel('PCA1 ')\n",
    "plt.ylabel('PCA2')"
   ]
  },
  {
   "cell_type": "code",
   "execution_count": 81,
   "metadata": {},
   "outputs": [
    {
     "name": "stdout",
     "output_type": "stream",
     "text": [
      "[t-SNE] Computing pairwise distances...\n",
      "[t-SNE] Computed conditional probabilities for sample 10 / 10\n",
      "[t-SNE] Mean sigma: 22.470179\n",
      "[t-SNE] KL divergence after 250 iterations with early exaggeration: 59.628173\n",
      "[t-SNE] KL divergence after 1000 iterations: 0.084326\n"
     ]
    }
   ],
   "source": [
    "tsne = TSNE(n_components=2, verbose=1,perplexity=3,method='exact')\n",
    "tsne_results = tsne.fit_transform(matrix_return)"
   ]
  },
  {
   "cell_type": "code",
   "execution_count": 82,
   "metadata": {},
   "outputs": [
    {
     "data": {
      "text/plain": [
       "Text(0, 0.5, 'TSNE2')"
      ]
     },
     "execution_count": 82,
     "metadata": {},
     "output_type": "execute_result"
    },
    {
     "data": {
      "image/png": "[encoded data removed]",
      "text/plain": [
       "<Figure size 432x288 with 1 Axes>"
      ]
     },
     "metadata": {
      "needs_background": "light"
     },
     "output_type": "display_data"
    }
   ],
   "source": [
    "plt.scatter(tsne_results[:,0],tsne_results[:,1],cmap=plt.get_cmap('Spectral'))\n",
    "for label,x,y in zip(random_words,tsne_results[:,0],tsne_results[:,1]):\n",
    "    plt.annotate(\n",
    "        label,\n",
    "        xy=(x,y),\n",
    "        xytext=(-20, 20),\n",
    "        textcoords='offset points',\n",
    "        bbox=dict(boxstyle='round,pad=1', fc='pink', alpha=1),\n",
    "        arrowprops=dict(arrowstyle = 'simple', connectionstyle='arc3,rad=0')\n",
    "    )\n",
    "plt.xlabel('TSNE1')\n",
    "plt.ylabel('TSNE2')"
   ]
  }
 ],
 "metadata": {
  "kernelspec": {
   "display_name": "Python 3",
   "language": "python",
   "name": "python3"
  }
 },
 "nbformat": 4,
 "nbformat_minor": 2
}
