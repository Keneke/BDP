{
 "cells": [
  {
   "cell_type": "code",
   "execution_count": 4,
   "metadata": {},
   "outputs": [],
   "source": [
    "%matplotlib inline\n",
    "import numpy as np\n",
    "import matplotlib.pyplot as plt\n",
    "from sklearn.datasets import make_classification, make_blobs                           #генерируем данные\n",
    "from sklearn.metrics import confusion_matrix, classification_report\n",
    "from matplotlib.colors import ListedColormap\n",
    "from sklearn.model_selection import train_test_split\n",
    "from matplotlib.colors import ListedColormap\n",
    "from sklearn import neighbors \n",
    "from sklearn.neighbors import KNeighborsClassifier"
   ]
  },
  {
   "cell_type": "code",
   "execution_count": 5,
   "metadata": {},
   "outputs": [],
   "source": [
    "cmap_bold = ListedColormap(['#FFFF00', '#00FF00', '#0000FF','#000000'])\n",
    "X_D2, y_D2 = make_blobs(n_samples = 200, n_features = 2, centers = 8, \n",
    "                        cluster_std = 1.3, random_state = 4)"
   ]
  },
  {
   "cell_type": "code",
   "execution_count": 6,
   "metadata": {},
   "outputs": [
    {
     "data": {
      "image/png": "[encoded data removed]",
      "text/plain": [
       "<Figure size 432x288 with 1 Axes>"
      ]
     },
     "metadata": {
      "needs_background": "light"
     },
     "output_type": "display_data"
    }
   ],
   "source": [
    "plt.figure()                                                                           #визуализация данных\n",
    "plt.scatter(X_D2[:,0], X_D2[:,1], c=y_D2, marker= 'o', s=50, cmap=cmap_bold)\n",
    "plt.show()"
   ]
  },
  {
   "cell_type": "code",
   "execution_count": 7,
   "metadata": {},
   "outputs": [],
   "source": [
    "X_train, X_test, y_train, y_test = train_test_split(X_D2, y_D2, random_state = 0)#разделение данных на тренир. и тест. множества"
   ]
  },
  {
   "cell_type": "code",
   "execution_count": 8,
   "metadata": {},
   "outputs": [],
   "source": [
    "for i in range(1, 5):\n",
    "    clf = neighbors.KNeighborsClassifier(n_neighbors=i, weights='distance')                #создадим классификатор\n",
    "    clf.fit(X_train, y_train)\n",
    "    predictions = clf.predict(X_test)                                                      #вычислим результат классификации"
   ]
  },
  {
   "cell_type": "code",
   "execution_count": 10,
   "metadata": {},
   "outputs": [
    {
     "name": "stdout",
     "output_type": "stream",
     "text": [
      "KNN  KNeighborsClassifier(algorithm='auto', leaf_size=30, metric='minkowski',\n",
      "                     metric_params=None, n_jobs=None, n_neighbors=4, p=2,\n",
      "                     weights='distance')\n",
      "Accuracy of KNN classifier on training set: 1.00\n",
      "Accuracy of KNN classifier on test set: 0.78\n",
      "[[9 1 0 0 0 0 0 0]\n",
      " [0 7 0 0 0 0 0 0]\n",
      " [0 0 4 0 0 2 0 0]\n",
      " [0 0 0 3 0 0 0 0]\n",
      " [0 0 0 0 1 0 0 0]\n",
      " [0 0 7 0 0 2 0 0]\n",
      " [0 0 0 0 0 0 8 0]\n",
      " [0 0 0 0 1 0 0 5]]\n",
      "              precision    recall  f1-score   support\n",
      "\n",
      "           0       1.00      0.90      0.95        10\n",
      "           1       0.88      1.00      0.93         7\n",
      "           2       0.36      0.67      0.47         6\n",
      "           3       1.00      1.00      1.00         3\n",
      "           4       0.50      1.00      0.67         1\n",
      "           5       0.50      0.22      0.31         9\n",
      "           6       1.00      1.00      1.00         8\n",
      "           7       1.00      0.83      0.91         6\n",
      "\n",
      "    accuracy                           0.78        50\n",
      "   macro avg       0.78      0.83      0.78        50\n",
      "weighted avg       0.81      0.78      0.77        50\n",
      "\n"
     ]
    }
   ],
   "source": [
    "    print('KNN ', clf)                                                                     #оценим качество классификации\n",
    "    print('Accuracy of KNN classifier on training set: {:.2f}'\n",
    "     .format(clf.score(X_train, y_train)))\n",
    "    print('Accuracy of KNN classifier on test set: {:.2f}'\n",
    "     .format(clf.score(X_test, y_test)))\n",
    "    print(confusion_matrix(y_test,predictions))\n",
    "    print(classification_report(y_test, predictions))"
   ]
  },
  {
   "cell_type": "code",
   "execution_count": 11,
   "metadata": {},
   "outputs": [],
   "source": [
    "from sklearn.svm import SVC\n",
    "from sklearn.metrics import confusion_matrix, classification_report\n",
    "from adspy_shared_utilities import plot_class_regions_for_classifier_subplot,plot_class_regions_for_classifier"
   ]
  },
  {
   "cell_type": "code",
   "execution_count": 12,
   "metadata": {},
   "outputs": [],
   "source": [
    "X_train, X_test, y_train, y_test = train_test_split(X_D2, y_D2, random_state = 0)"
   ]
  },
  {
   "cell_type": "code",
   "execution_count": 18,
   "metadata": {},
   "outputs": [
    {
     "data": {
      "image/png": "[encoded data removed]",
      "text/plain": [
       "<Figure size 432x216 with 1 Axes>"
      ]
     },
     "metadata": {
      "needs_background": "light"
     },
     "output_type": "display_data"
    }
   ],
   "source": [
    "fig, subaxes = plt.subplots(1, 1, figsize=(6, 3))\n",
    "this_C = 5.0\n",
    "clf = SVC(kernel = 'linear', C=this_C).fit(X_train, y_train)\n",
    "title = 'Linear SVC, C = {:.3f}'.format(this_C)"
   ]
  },
  {
   "cell_type": "code",
   "execution_count": 14,
   "metadata": {},
   "outputs": [],
   "source": [
    "plot_class_regions_for_classifier_subplot(clf, X_train, y_train, \n",
    "                                          None, None, title, subaxes)\n",
    "predictions = clf.predict(X_test)"
   ]
  },
  {
   "cell_type": "code",
   "execution_count": 15,
   "metadata": {},
   "outputs": [
    {
     "name": "stdout",
     "output_type": "stream",
     "text": [
      "Logistic regression classifier \n",
      "  SVC(C=5.0, cache_size=200, class_weight=None, coef0=0.0,\n",
      "    decision_function_shape='ovr', degree=3, gamma='auto_deprecated',\n",
      "    kernel='linear', max_iter=-1, probability=False, random_state=None,\n",
      "    shrinking=True, tol=0.001, verbose=False)\n",
      "Accuracy of LR classifier on training set: 0.91\n",
      "Accuracy of LR classifier on test set: 0.80\n"
     ]
    }
   ],
   "source": [
    "print('Logistic regression classifier \\n ', clf)\n",
    "print('Accuracy of LR classifier on training set: {:.2f}'\n",
    "     .format(clf.score(X_train, y_train)))\n",
    "print('Accuracy of LR classifier on test set: {:.2f}'\n",
    "     .format(clf.score(X_test, y_test)))"
   ]
  },
  {
   "cell_type": "code",
   "execution_count": 16,
   "metadata": {},
   "outputs": [
    {
     "name": "stdout",
     "output_type": "stream",
     "text": [
      "[[8 2 0 0 0 0 0 0]\n",
      " [0 7 0 0 0 0 0 0]\n",
      " [0 0 4 0 0 2 0 0]\n",
      " [0 0 0 3 0 0 0 0]\n",
      " [0 0 0 0 1 0 0 0]\n",
      " [0 0 5 0 0 4 0 0]\n",
      " [0 0 0 0 0 0 8 0]\n",
      " [0 0 0 0 1 0 0 5]]\n",
      "              precision    recall  f1-score   support\n",
      "\n",
      "           0       1.00      0.80      0.89        10\n",
      "           1       0.78      1.00      0.88         7\n",
      "           2       0.44      0.67      0.53         6\n",
      "           3       1.00      1.00      1.00         3\n",
      "           4       0.50      1.00      0.67         1\n",
      "           5       0.67      0.44      0.53         9\n",
      "           6       1.00      1.00      1.00         8\n",
      "           7       1.00      0.83      0.91         6\n",
      "\n",
      "    accuracy                           0.80        50\n",
      "   macro avg       0.80      0.84      0.80        50\n",
      "weighted avg       0.83      0.80      0.80        50\n",
      "\n"
     ]
    }
   ],
   "source": [
    "matrix = confusion_matrix(y_test, predictions)#,labels)\n",
    "print(matrix)\n",
    "print(classification_report(y_test, predictions))"
   ]
  },
  {
   "cell_type": "code",
   "execution_count": 17,
   "metadata": {},
   "outputs": [
    {
     "name": "stdout",
     "output_type": "stream",
     "text": [
      "training results\n",
      "              precision    recall  f1-score   support\n",
      "\n",
      "           0       0.94      1.00      0.97        15\n",
      "           1       1.00      0.94      0.97        18\n",
      "           2       0.79      0.79      0.79        19\n",
      "           3       1.00      0.95      0.98        22\n",
      "           4       0.95      0.88      0.91        24\n",
      "           5       0.71      0.75      0.73        16\n",
      "           6       1.00      1.00      1.00        17\n",
      "           7       0.86      0.95      0.90        19\n",
      "\n",
      "    accuracy                           0.91       150\n",
      "   macro avg       0.91      0.91      0.91       150\n",
      "weighted avg       0.91      0.91      0.91       150\n",
      "\n"
     ]
    }
   ],
   "source": [
    "print('training results')\n",
    "predictions = clf.predict(X_train )\n",
    "print(classification_report(y_train, predictions))"
   ]
  },
  {
   "cell_type": "code",
   "execution_count": null,
   "metadata": {},
   "outputs": [],
   "source": []
  }
 ],
 "metadata": {
  "kernelspec": {
   "display_name": "Python 3",
   "language": "python",
   "name": "python3"
  },
  "language_info": {
   "codemirror_mode": {
    "name": "ipython",
    "version": 3
   },
   "file_extension": ".py",
   "mimetype": "text/x-python",
   "name": "python",
   "nbconvert_exporter": "python",
   "pygments_lexer": "ipython3",
   "version": "3.7.3"
  }
 },
 "nbformat": 4,
 "nbformat_minor": 2
}
